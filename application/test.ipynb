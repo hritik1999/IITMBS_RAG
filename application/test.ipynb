{
 "cells": [
  {
   "cell_type": "code",
   "execution_count": 23,
   "metadata": {},
   "outputs": [],
   "source": [
    "from langchain_community.document_loaders import DirectoryLoader\n",
    "from langchain_community.document_loaders import UnstructuredHTMLLoader\n",
    "from langchain_community.embeddings import HuggingFaceInferenceAPIEmbeddings\n",
    "from langchain_chroma import Chroma\n",
    "from dotenv import load_dotenv\n",
    "import os"
   ]
  },
  {
   "cell_type": "code",
   "execution_count": 21,
   "metadata": {},
   "outputs": [
    {
     "data": {
      "text/plain": [
       "166"
      ]
     },
     "execution_count": 21,
     "metadata": {},
     "output_type": "execute_result"
    }
   ],
   "source": [
    "loader = DirectoryLoader(\"/Users/hritik/Desktop/Grading Doc RAG/Document\", glob=\"**/*.html\",loader_cls=UnstructuredHTMLLoader)\n",
    "docs = loader.load()\n",
    "len(docs)"
   ]
  },
  {
   "cell_type": "code",
   "execution_count": 24,
   "metadata": {},
   "outputs": [],
   "source": [
    "dotenv_path = '../.env'\n",
    "load_dotenv(dotenv_path)\n",
    "HUGGINGFACEHUB_API_TOKEN = os.getenv(\"HF_TOKEN\")\n",
    "os.environ[\"HUGGINGFACEHUB_API_TOKEN\"] = HUGGINGFACEHUB_API_TOKEN\n",
    "embeddings = HuggingFaceInferenceAPIEmbeddings(\n",
    "    api_key=HUGGINGFACEHUB_API_TOKEN, model_name=\"sentence-transformers/all-MiniLM-l6-v2\"\n",
    ")"
   ]
  },
  {
   "cell_type": "code",
   "execution_count": 25,
   "metadata": {},
   "outputs": [],
   "source": [
    "db = Chroma.from_documents(docs, embeddings, persist_directory='vectordb/chroma/')"
   ]
  },
  {
   "cell_type": "code",
   "execution_count": 28,
   "metadata": {},
   "outputs": [
    {
     "name": "stdout",
     "output_type": "stream",
     "text": [
      "200\n"
     ]
    }
   ],
   "source": [
    "print(db._collection.count())"
   ]
  },
  {
   "cell_type": "code",
   "execution_count": 29,
   "metadata": {},
   "outputs": [],
   "source": [
    "ques = \"Give me information about scholarship\""
   ]
  },
  {
   "cell_type": "code",
   "execution_count": 30,
   "metadata": {},
   "outputs": [],
   "source": [
    "docs = db.similarity_search(ques,k=3)"
   ]
  },
  {
   "cell_type": "code",
   "execution_count": 31,
   "metadata": {},
   "outputs": [
    {
     "data": {
      "text/plain": [
       "[Document(page_content='English\\n\\n| हिंदी\\n\\n| தமிழ்\\n\\n| తెలుగు\\n\\n| മലയാളം\\n\\n| ಕನ್ನಡ\\n\\n| मराठी\\n\\n| ગુજરાતી\\n\\n| বাংলা\\n\\nAcademics\\r\\n                            \\xa0\\r\\n                            \\r\\n                        \\r\\n                        \\r\\n                            Overall Structure\\r\\n                            Term Structure\\r\\n                            Course Registrations\\r\\n                            Assessments\\r\\n                            \\r\\n                            Exam Cities\\r\\n                            \\r\\n                            Fee Structure\\r\\n                            \\r\\n                            Foundational Level Courses\\r\\n                            Diploma Level Courses\\r\\n                            Degree Level Courses\\r\\n                            \\r\\n                            Sample Certificates\\n\\nAdmissions\\r\\n                            \\r\\n                        \\r\\n                        \\r\\n                            Important Dates\\r\\n                            Mandatory Requirements\\r\\n                            \\r\\n                            \\r\\n                            Eligibility to Apply\\r\\n                            Application Process\\r\\n                            Admission to the Foundation Level\\r\\n                            1. Regular Entry\\r\\n                              \\r\\n                            2. JEE-based Entry\\r\\n                              \\r\\n                            \\r\\n                            International Students\\n\\nResources \\r\\n                        \\r\\n                        \\r\\n                            Events\\r\\n                            \\r\\n\\r\\n                            Help Videos\\r\\n                            \\r\\n                            In the Media \\r\\n                            Archive\\n\\nStudent Life \\r\\n                        \\r\\n                        \\r\\n                            Student Life\\r\\n                            PARADOX / Student Festivals\\n\\nTestimonials\\n\\nFAQ\\n\\nAbout IITM \\r\\n                        \\r\\n                        \\r\\n                            About IIT Madras\\r\\n                            \\r\\n\\r\\n                            Contact Us\\r\\n                            \\r\\n                            Merchandise\\n\\nPartnerships\\n\\nSIGN IN\\n\\nApplications Open now for September 2024 Batch | Applications Close: Sep 15, 2024 | Exam: Oct 27, 2024\\n\\nAPPLY NOW\\n\\nApplications Open now for September 2024 Batch | Applications Close: Sep 15, 2024 | Exam: Oct 27, 2024\\n\\nAPPLY NOW\\n\\nHome\\n\\nAcademics\\n\\nBSGN3002\\n\\nDegree Level Course\\n\\nFinancial Forensics\\n\\nAn introduction to Finance and Accounting, The life cycle of a financial transaction, Areas where AI/ML is used in the Finance Industry, Importance of Model Explainability in the Regulated World, An introduction to solving real world finance problems – Credit Card Fraud Detection, Identity Fraud Detection, Anti Money Laundering Scenarios\\n\\nby\\r\\n                \\r\\n                Dr. Arun Kumar G\\n\\nCourse ID: BSGN3002\\n\\nCourse Credits: 4\\n\\nCourse Type: Elective\\n\\nPre-requisites:\\r\\n                            \\r\\n                                None\\n\\nCourse structure & Assessments\\n\\n12 weeks of coursework, weekly online assignments, 2 in-person invigilated quizzes, 1 in-person invigilated end term exam.\\r\\n                For details of standard course structure and assessments, visit\\r\\n                Academics\\r\\n                page.\\n\\nWEEK 1 INTRODUCTION TO ACCOUNTING AND FINANCE: Financial Statements | Uses relevance of financial statements | Decision making in the financial arena | Need for finance and accounting in a business world WEEK 2 FRAUD VULNERABILITIES AND FINANCE: Types of fraud | Why do they occur | Where do they occur | Detecting red flags WEEK 3 FORENSIC ACCOUNTING - 1: Intro to Forensic Accounting | Source of assignments and referrals for a forensic accountant | Role of the forensic accountant as an expert - identify any conflicts WEEK 4 FORENSIC ACCOUNTING - 2: Scope of forensic accounting | Process of forensic accounting - Analysis WEEK 5 BENFORD LAW AND IMPLEMENTATION: Benford Law | Using Benford Law in Excel to detect audit fraud WEEK 6 AGING ANALYSIS, PARETO AND OUTLIERS: Detecting fraud using Aging Analysis in Excel | Creating a Pareto Chart | Outlier identification WEEK 7 FINANCIAL TRANSACTION LIFECYCLE: Transaction Lifecycle | Where is AI/ML used in the present world? WEEK 8 ENTITY RESOLUTION: What is an entity in a transaction? | Entity resolution WEEK 9 ANOMALY DETECTION - 1: Supervised Anomaly Detection WEEK 10 ANOMALY DETECTION - 2: Unsupervised Anomaly Detection WEEK 11 ANOMALY DETECTION - 3: Time Based Anomaly Detection WEEK 12 Model Explainability | Financial Data Visualization using Tableau\\n\\n+ Show all weeks\\n\\nPrescribed Books\\n\\nThe following are the suggested books for the course:\\n\\nRobert N Anthony, David F Hawkins and Kenneth A Merchant, Accounting: Text and Cases\\n\\nStephen H Penman, Financial Statement Analysis and Security Valuation, Tata McGraw Hill Company, Third Edition.\\n\\nCormen, T. H., Leiserson, C. E., Rivest, R. L., & Stein, C. (2009). Introduction to algorithms. Mit Press.\\n\\nJames, G., Witten, D., Hastie, T., & Tibshirani, R. (n.d.). An introduction to statistical learning: With applications in R.\\n\\nAbout the Instructors\\n\\nDr. Arun Kumar G\\n\\nProfessor,\\r\\n                            \\r\\n                             \\r\\n                                Department of Management Studies(DOMS),\\r\\n                            \\r\\n                            \\r\\n                            IIT Madras\\n\\nProf. G Arun Kumar is a faculty in the Department of Management Studies at IIT Madras. His areas of interest are Finance and Corporate Governance issues. He was actively involved in \"Evidence based impact assessment of development\" and have worked on field based Impact assessment assignments in the peri-urban or rural setting across the country. Some of these assignments include development of micro enterprises, microfinance, migration & remittances, digital literacy, skill development, women empowerment & women led micro enterprises, etc.\\n\\nless\\n\\nView all Degree Level courses\\n\\nContact Us\\n\\nsupport@study.iitm.ac.in\\n\\n7850999966\\n\\n\\r\\n              IITM BS Degree Office, 3rd Floor, ICSR Building,\\n\\nIIT Madras, Chennai - 600036\\n\\nPlease use ONLY the above methods for any queries regarding the program.\\r\\n                  Our normal response time is 3 working days. It might take a little longer during busy periods.\\r\\n                  We will share Google Meet links during such periods.\\r\\n                  Due to the high volume of calls we receive every day, there might be long wait times.\\r\\n                  In some cases, you might have to call multiple times to successfully connect to us.\\n\\nView Site Map\\n\\nView Site Map\\n\\nPrivacy Policy\\r\\n              |\\n\\nTerms of Service', metadata={'source': '/Users/hritik/Desktop/Grading Doc RAG/Document/www/ds/course_pages/BSGN3002.html'}),\n",
       " Document(page_content='English\\n\\n| हिंदी\\n\\n| தமிழ்\\n\\n| తెలుగు\\n\\n| മലയാളം\\n\\n| ಕನ್ನಡ\\n\\n| मराठी\\n\\n| ગુજરાતી\\n\\n| বাংলা\\n\\nAcademics\\r\\n                            \\xa0\\r\\n                            \\r\\n                        \\r\\n                        \\r\\n                            Overall Structure\\r\\n                            Term Structure\\r\\n                            Course Registrations\\r\\n                            Assessments\\r\\n                            \\r\\n                            Exam Cities\\r\\n                            \\r\\n                            Fee Structure\\r\\n                            \\r\\n                            Foundational Level Courses\\r\\n                            Diploma Level Courses\\r\\n                            Degree Level Courses\\r\\n                            \\r\\n                            Sample Certificates\\n\\nAdmissions\\r\\n                            \\r\\n                        \\r\\n                        \\r\\n                            Important Dates\\r\\n                            Mandatory Requirements\\r\\n                            \\r\\n                            \\r\\n                            Eligibility to Apply\\r\\n                            Application Process\\r\\n                            Admission to the Foundation Level\\r\\n                            1. Regular Entry\\r\\n                              \\r\\n                            2. JEE-based Entry\\r\\n                              \\r\\n                            \\r\\n                            International Students\\n\\nResources \\r\\n                        \\r\\n                        \\r\\n                            Events\\r\\n                            \\r\\n\\r\\n                            Help Videos\\r\\n                            \\r\\n                            In the Media \\r\\n                            Archive\\n\\nStudent Life \\r\\n                        \\r\\n                        \\r\\n                            Student Life\\r\\n                            PARADOX / Student Festivals\\n\\nTestimonials\\n\\nFAQ\\n\\nAbout IITM \\r\\n                        \\r\\n                        \\r\\n                            About IIT Madras\\r\\n                            \\r\\n\\r\\n                            Contact Us\\r\\n                            \\r\\n                            Merchandise\\n\\nPartnerships\\n\\nSIGN IN\\n\\nApplications Open now for September 2024 Batch | Applications Close: Sep 15, 2024 | Exam: Oct 27, 2024\\n\\nAPPLY NOW\\n\\nApplications Open now for September 2024 Batch | Applications Close: Sep 15, 2024 | Exam: Oct 27, 2024\\n\\nAPPLY NOW\\n\\nHome\\n\\nAcademics\\n\\nBSMS3034\\n\\nDegree Level Course\\n\\nFoundations of Finance\\n\\nCourse ID: BSMS3034\\n\\nCourse Credits: 4\\n\\nCourse Type: Elective\\n\\nPre-requisites:\\r\\n                            \\r\\n                                None\\n\\nCourse structure & Assessments\\n\\nFor details of standard course structure and assessments, visit\\r\\n                Academics\\r\\n                page.\\n\\nWEEK 1 Introduction to Finance WEEK 2 Present Value, Annuities and Perpetuities WEEK 3 Capital Budgeting Rules, Time Varying Rates of Return, Uncertainty, Default and Risk WEEK 4 Investment: Risk and Rewards, Choice Under Uncertainty WEEK 5 Portfolio Theory WEEK 6 Capital Asset Pricing Theory WEEK 7 Other Pricing Models: Factor Models, Arbitrage Pricing Theory WEEK 8 Market Efficiency: Market Imperfections, and Applications to Capital Budgeting Rules WEEK 9 Introduction to Derivative Securities and Basic Options Theory I WEEK 10 Introduction to Derivative Securities and Basic Options Theory II WEEK 11 Foreign Exchange Markets and International Financial System WEEK 12 Financial Crises\\n\\n+ Show all weeks\\n\\nPrescribed Books\\n\\nThe following are the suggested books for the course:\\n\\nCorporate Finance by Ivo Welch.\\n\\nInvestment Science by David Luenberger. Oxford University Press.\\n\\nThe Economics of Money, Banking, and Financial Markets Book by Frederic Mishkin.\\r\\nPearson.\\n\\nView all Degree Level courses\\n\\nContact Us\\n\\nsupport@study.iitm.ac.in\\n\\n7850999966\\n\\n\\r\\n              IITM BS Degree Office, 3rd Floor, ICSR Building,\\n\\nIIT Madras, Chennai - 600036\\n\\nPlease use ONLY the above methods for any queries regarding the program.\\r\\n                  Our normal response time is 3 working days. It might take a little longer during busy periods.\\r\\n                  We will share Google Meet links during such periods.\\r\\n                  Due to the high volume of calls we receive every day, there might be long wait times.\\r\\n                  In some cases, you might have to call multiple times to successfully connect to us.\\n\\nView Site Map\\n\\nView Site Map\\n\\nPrivacy Policy\\r\\n              |\\n\\nTerms of Service', metadata={'source': '/Users/hritik/Desktop/Grading Doc RAG/Document/www/ds/course_pages/BSMS3034.html'}),\n",
       " Document(page_content='4.1 For students who are outside India: Facilitation fee for exams is in addition to the above for candidates writing exams overseas - as fixed up with the local exam partner there. These are subject to periodic changes depending on the local exam partner identified. Facilitation Fee Quiz1 [irrespective of num of courses] = Rs.2000/- Quiz2 [irrespective of num of courses] = Rs.2000/- End term [per session] = Rs.2000/- [one course it is Rs.2000/- & more than one course it is Rs. 4000/-] E.,g If you opt for 4 courses Quiz1 = 2000, Quiz2 = 2000, EndTerm = 4000 Totally 8000 to be paid as a facilitation fee *Facilitation fee may vary based on country. Eg: Kuwait & Bahrain it is Rs. 3000/- 5. Admission to the programme 5.1 Regular Entry into Foundation level To enter the Foundation level, applicants have to pass the Qualifier exam. The Foundation courses allow for interested applicants with a variety of educational backgrounds to be trained in the basics (Math, Statistics, Computational Thinking, Python programming and English) required to take up the Diploma level of Programming & Data Science courses. Entry: Via the Qualifier exam into the Foundation level Exit 1. Foundation course certificate Exit 2. Diploma in Programming/Data Science or both Exit 3. BSc Degree in Programming and Data Science from IIT Madras Exit 4: BS in Data Science and Applications from IIT Madras 5.1.1 Eligibility to Apply for the Qualifier Exam Minimum eligibility: Should have studied Mathematics and English in Class 10. 1. Anyone who has passed Class 12 or equivalent can apply irrespective of age or academic background. Those who qualify can join the program immediately. View list of accepted class 12 equivalents. 2. School students who have appeared for their Class 11 final exams can apply irrespective of their group/stream/board. Those who qualify can join the program after passing Class 12. No additional eligibility other than the ones mentioned above is required to apply for the qualifier process or join the foundational level courses after clearing the qualifying exam.', metadata={'heading': 'Admission to the programme 5.1 Regular Entry into Foundation level To enter the Foundation level, applicants have to pass the Qualifier exam. The Foundation courses allow for interested applicants with a variety of educational backgrounds to be trained in the basics (Math, Statistics, Computational Thinking, Python programming and English) required to take up the Diploma level of Programming & Data Science courses. Entry: Via the Qualifier exam into the Foundation level Exit 1. Foundation course certificate Exit 2. Diploma in Programming/Data Science or both Exit 3. BSc Degree in Programming and Data Science from IIT Madras Exit 4: BS in Data Science and Applications from IIT Madras 5.1.1 Eligibility to Apply for the Qualifier Exam Minimum eligibility: Should have studied Mathematics and English in Class 10. 1. Anyone who has passed Class 12 or equivalent can apply irrespective of age or academic background. Those who qualify can join the program immediately. View list of accepted class 12 equivalents. 2. School students who have appeared for their Class 11 final exams can apply irrespective of their group/stream/board. Those who qualify can join the program after passing Class 12. No additional eligibility other than the ones mentioned above is required to apply for the qualifier process or join the foundational level courses after clearing the qualifying exam.', 'page_number': 6})]"
      ]
     },
     "execution_count": 31,
     "metadata": {},
     "output_type": "execute_result"
    }
   ],
   "source": [
    "docs"
   ]
  },
  {
   "cell_type": "code",
   "execution_count": null,
   "metadata": {},
   "outputs": [],
   "source": []
  }
 ],
 "metadata": {
  "kernelspec": {
   "display_name": "env",
   "language": "python",
   "name": "python3"
  },
  "language_info": {
   "codemirror_mode": {
    "name": "ipython",
    "version": 3
   },
   "file_extension": ".py",
   "mimetype": "text/x-python",
   "name": "python",
   "nbconvert_exporter": "python",
   "pygments_lexer": "ipython3",
   "version": "3.10.9"
  }
 },
 "nbformat": 4,
 "nbformat_minor": 2
}
