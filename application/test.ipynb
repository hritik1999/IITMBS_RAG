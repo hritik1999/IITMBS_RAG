{
 "cells": [
  {
   "cell_type": "code",
   "execution_count": 1,
   "metadata": {},
   "outputs": [],
   "source": [
    "from langchain_community.document_loaders import DirectoryLoader\n",
    "from langchain_community.document_loaders import UnstructuredHTMLLoader\n",
    "from langchain_community.embeddings import HuggingFaceInferenceAPIEmbeddings\n",
    "from langchain.text_splitter import RecursiveCharacterTextSplitter\n",
    "from langchain_chroma import Chroma\n",
    "from dotenv import load_dotenv\n",
    "import os"
   ]
  },
  {
   "cell_type": "code",
   "execution_count": 2,
   "metadata": {},
   "outputs": [
    {
     "data": {
      "text/plain": [
       "166"
      ]
     },
     "execution_count": 2,
     "metadata": {},
     "output_type": "execute_result"
    }
   ],
   "source": [
    "loader = DirectoryLoader(\"/Users/hritik/Desktop/Grading Doc RAG/Document\", glob=\"**/*.html\",loader_cls=UnstructuredHTMLLoader)\n",
    "docs = loader.load()\n",
    "len(docs)"
   ]
  },
  {
   "cell_type": "code",
   "execution_count": 3,
   "metadata": {},
   "outputs": [],
   "source": [
    "def remove_extra_whitespace(sentence):\n",
    "    # Split the sentence into words and join them with a single space\n",
    "    cleaned_sentence = ' '.join(sentence.split())\n",
    "    return cleaned_sentence\n",
    "\n",
    "\n",
    "\n",
    "clean_docs = [remove_extra_whitespace(doc.page_content) for doc in docs]"
   ]
  },
  {
   "cell_type": "code",
   "execution_count": 4,
   "metadata": {},
   "outputs": [],
   "source": [
    "for i in range(len(docs)):\n",
    "    docs[i].page_content = clean_docs[i]"
   ]
  },
  {
   "cell_type": "code",
   "execution_count": 5,
   "metadata": {},
   "outputs": [
    {
     "data": {
      "text/plain": [
       "Document(page_content='English | हिंदी | தமிழ் | తెలుగు | മലയാളം | ಕನ್ನಡ | मराठी | ગુજરાતી | বাংলা Academics Overall Structure Course Registrations Assessments Exam Cities Fee Structure Foundational Level Diploma Level BS Degree Level Sample Certificates Academic Calender Admissions Important Dates Mandatory Requirements Eligibility to Apply Application Process Admission to the Foundation Level 1. Regular Entry 2. JEE-based Entry International Students FAQ About IITM About IIT Madras Faculty Co-ordinators Contact Us SIGN IN Applications open now for May 2024 Batch. Application Close: May 28th, 2024 | Exam: Jul 07th, 2024 APPLY NOW Applications open now for May 2024 Batch. Application Close: May 26th, 2024 | Exam: Jul 07th, 2024 APPLY NOW Home Academics MA1101 Foundation Level Math for Electronics I by Prof. Andrew Thangaraj Course ID: MA1101 Course Credits: 4 Course Type: Foundation Pre-requisites: None What you’ll learnVIEW COURSE VIDEOS To introduce differential/integral calculus of one variable To introduce solutions for a system of linear equations To introduce complex numbers Course structure & Assessments 4 credit course, weekly online assignments, 2 in-person invigilated quizzes, 1 in-person invigilated end term exam. For details of standard course structure and assessments, visit Academics page. WEEK 1 Introduction, Linear equations Numbers, relations/functions, equations occurring in practical scenarios and applications Cartesian coordinates, Equation of a line in 2D, Linear equations in two variables, Graphing software Solving systems of linear equations by elimination WEEK 2 Functions of one variable, Limits and continuity Functions and graphs, scaling/shifting operations, trigonometric functions, visualising functions Limit of a function and limit laws, One-sided/two-sided limits, continuity of a function WEEK 3 Differential calculus Tangent line, Derivatives as slope/rate of change, Derivative, Rules/methods for finding derivatives Applications: Increasing/decreasing functions, Extreme values of functions WEEK 4 Integral calculus Area under step functions, Finite sums, Integrals as area under general functions, Limits of finite sums The definite integral, Fundamental theorem of calculus, Transcendental functions (log, exp, inv trig) Rules/methods for finding integrals, Applications: Areas, Volumes, Averages WEEK 5 Ordinary Differential Equations (ODEs) Applications - Capacitor charging, mass-spring, pendulum Types of ODEs, Boundary conditions, Solutions to first-order homogeneous, linear ODEs WEEK 6 Complex numbers Square root of -1, Imaginary unit i, Complex numbers and arithmetic, Geometric representation Complex-valued functions of one real variable, Complex exponentials, Examples of calculus + Show all weeks Prescribed Books The following are the suggested books for the course: “Thomas’ Calculus (14th edition),” J. R. Hass, C. E. Heil and M. D. Weir, Pearson. “Calculus (8th edition),” J. Stewart, CENGAGE Learning. “Calculus, Vol 1, 2ed (An Indian Adaptation),” T. M. Apostol, J. Singh and S. Goyal, Wiley. About the Instructors Prof. Andrew Thangaraj Professor, Electrical Engineering Department, IIT Madras Andrew Thangaraj received his B. Tech in Electrical Engineering from the Indian Institute of Technology (IIT) Madras in 1998 and Ph.D. in Electrical Engineering from the Georgia Institute of Technology, Atlanta, USA in 2003. ... more He was a post-doctoral researcher at the GTL-CNRS Telecom lab at Georgia Tech Lorraine, Metz, France from Aug 2003 till May 2004. Since 2004, he has been a faculty at the Department of Electrical Engineering, IIT Madras, where he is currently a professor. His research interests are in the broad areas of information theory, error-control coding and information-theoretic aspects of cryptography. From Jan 2012 till Jan 2018, he served as Editor for the IEEE Transactions on Communications. From July 2018, he is an Associate Editor for the IEEE Transactions on Information Theory. From Nov 2011, he has been one of the NPTEL coordinators for IIT Madras. At NPTEL, he has played a key role in the starting of online courses and certification. He is currently a National MOOCs coordinator for NPTEL under the SWAYAM project of the MHRD. Prof. Andrew is also one of the coordinators for the IIT Madras Online BSc Degree Program, which was launched in June, 2020. less Visit website Other courses by the same instructor: - Open Elective , - Open Elective , - Open Elective , - Open Elective , - Open Elective , - Open Elective , - Open Elective , - Open Elective and - Open Elective View all Foundation Level courses Contact Us IITM BS Degree Office, 3rd Floor, ICSR Building, IIT Madras, Chennai - 600036 +91-9711397993 (Mon-Fri 9am-6pm) support-es@study.iitm.ac.in honour code', metadata={'source': '/Users/hritik/Desktop/Grading Doc RAG/Document/www/es/course_pages/MA1101.html'})"
      ]
     },
     "execution_count": 5,
     "metadata": {},
     "output_type": "execute_result"
    }
   ],
   "source": [
    "docs[165]"
   ]
  },
  {
   "cell_type": "code",
   "execution_count": 6,
   "metadata": {},
   "outputs": [],
   "source": [
    "dotenv_path = '../.env'\n",
    "load_dotenv(dotenv_path)\n",
    "HUGGINGFACEHUB_API_TOKEN = os.getenv(\"HF_TOKEN\")\n",
    "os.environ[\"HUGGINGFACEHUB_API_TOKEN\"] = HUGGINGFACEHUB_API_TOKEN\n",
    "embeddings = HuggingFaceInferenceAPIEmbeddings(\n",
    "    api_key=HUGGINGFACEHUB_API_TOKEN, model_name=\"sentence-transformers/all-MiniLM-l6-v2\"\n",
    ")"
   ]
  },
  {
   "cell_type": "code",
   "execution_count": 7,
   "metadata": {},
   "outputs": [],
   "source": [
    "vectordb = Chroma.from_documents(\n",
    "    documents=docs,\n",
    "    embedding=embeddings,\n",
    "    persist_directory='vectordb/chroma/'\n",
    ")"
   ]
  },
  {
   "cell_type": "code",
   "execution_count": 8,
   "metadata": {},
   "outputs": [
    {
     "name": "stdout",
     "output_type": "stream",
     "text": [
      "166\n"
     ]
    }
   ],
   "source": [
    "print(vectordb._collection.count())"
   ]
  },
  {
   "cell_type": "code",
   "execution_count": 9,
   "metadata": {},
   "outputs": [],
   "source": [
    "ques = \"paradox\""
   ]
  },
  {
   "cell_type": "code",
   "execution_count": 10,
   "metadata": {},
   "outputs": [],
   "source": [
    "docs = vectordb.similarity_search(ques,k=3)"
   ]
  },
  {
   "cell_type": "code",
   "execution_count": 11,
   "metadata": {},
   "outputs": [
    {
     "data": {
      "text/plain": [
       "[Document(page_content='Paradox\\'22 Previous Next Sports Interactive Sessions Cultural Events Workshops Company Discussions Sponsors PARADOX\\'22 Student Festival Organised by the students of IITM BS Degree Program at the IIT Madras Campus 20th, 21st & 22nd May 2022 1500+ Programming & Data Science students of IIT Madras attended the first on-campus three day festival, which was fully curated and organised by the students. This was a huge platform for interaction between fellow students, faculty, industry experts, and companies. Paradox \\'22 also marked the formal distribution of provisional diploma certificates to 101 students, including 17 students from families of income less than ₹1 lakh per annum. Sports Previous Next As an icebreaker and warm-up to the three day festival, a whole series of games (chess, table tennis, box cricket, football 5s, etc.) were organised where students competed against each other. On day two, over 700 participants woke up early for a 5km run / walk exploring the beautiful, green IIT Madras campus. The fastest runner completed the five kilometres in 19 minutes and 38 seconds! The much awaited faculty vs students cricket match on day two drew in a lot of spectators cheering on while the faculty team went ahead to win the match. Interactive Sessions Previous Next The Director of IIT Madras, Prof. V.Kamakoti, formally addressed the gathering of 1500+ students at the SAC Auditorium and with that began a series of formal and informal interactive sessions with the faculty and instructors of the BS Degree program. This was also a platform where students with the 10 best projects were selected to present them to a larger audience for discussion and feedback. Being a unique program with students of all age groups and of varying educational / professional backgrounds, students were able to learn a lot from meeting and interacting each other as well. Cultural Events Previous Next Cultural events during the IITM Paradox included competitive events and entertainment events. Students who participated in competitive events such as Controversia (Debate), Qutopia (Quiz) and Hack-o-pitch were evaluated by a panel of judges and mentors who picked the winners and also gave valuable feedback for all participants and spectators to learn from. The evenings were for unwinding. Students from across the country put on a wonderful display of their talents on stage in the form of open mic, music and dance. On day two, all faculty and students joined in for a festive dinner under the stars at the open air theatre, and enjoyed the late night screening of a movie together. Workshops Previous Next Apart from the talks and project presentations, spanning over two days, there were a total of nine professional workshops conducted at different seminar halls that the students could pick to attend. These workshops were conducted by IIT Madras Faculty. Over a hundred students signed up for and attended each of these workshops. Company Discussions Previous Next Day three was marked with Placement Cell interaction, sessions by IITM Incubation Cell, IITM Research Park, panel discussions and Q&A sessions. The panel discussion titled \"Is Data the eternal fuel?\" was attended by industry leaders in the field of data science and data analytics from IBM Client Innovation Center India, Renault Nissan Technology and Business Center India, Walmart Global Tech India, Capgemini, TCS, Latent view. The Q&A session that followed with the topic of \"Careers in Data Science\" were answered by leaders from Tech Mahindra, Infosys Springboard Program, Aditya Birla Management Corporation Pvt Ltd, L&T Construction, Power Transmission & Distribution, Tiger Analytics, Walmart Labs India. Additionally, Startups by IITM BS degree students were showcased and judged in an exhibit by professors and industry experts. Sponsors Main Sponsor Tiger Analytics is an advanced analytics and AI consulting company enabling enterprises to generate business value through data. They are the trusted data sciences and data engineering partner for several Fortune 500 firms. They bring expertise in marketing science, customer analytics, and operations & planning analytics. Other Sponsors', metadata={'source': '/Users/hritik/Desktop/Grading Doc RAG/Document/www/ds/paradox.html'}),\n",
       " Document(page_content='', metadata={'source': '/Users/hritik/Desktop/Grading Doc RAG/Document/www/ds/contest/forward.html'}),\n",
       " Document(page_content='English | हिंदी | தமிழ் | తెలుగు | മലയാളം | ಕನ್ನಡ | मराठी | ગુજરાતી | বাংলা Academics Overall Structure Term Structure Course Registrations Assessments Exam Cities Fee Structure Foundational Level Courses Diploma Level Courses Degree Level Courses Sample Certificates Admissions Important Dates Mandatory Requirements Eligibility to Apply Application Process Admission to the Foundation Level 1. Regular Entry 2. JEE-based Entry International Students Resources Events Help Videos In the Media Archive Student Life Student Life PARADOX / Student Festivals Testimonials FAQ About IITM About IIT Madras Contact Us Merchandise Partnerships SIGN IN Applications Open now for September 2024 Batch | Applications Close: Sep 15, 2024 | Exam: Oct 27, 2024 APPLY NOW Applications Open now for September 2024 Batch | Applications Close: Sep 15, 2024 | Exam: Oct 27, 2024 APPLY NOW Home Academics BSCS3003 Degree Level Course AI: Search Methods for Problem Solving We look at how an intelligent agent solves new problems. Starting with blind search we quickly move on to heuristic search, and look at several variations designed to combat the combinatorial explosion that search has to face. We study how board games like Chess and Go are played; how search facilitates logical reasoning; and approaches to domain independent planning of actions to achieve a goal. We end with looking at an alternative formulation that combines search and reasoning as constraint processing. by Deepak Khemani Course ID: BSCS3003 Course Credits: 4 Course Type: Core Option II Pre-requisites: None What you’ll learnVIEW COURSE VIDEOS Get a historical and philosophical perspective on artificial intelligence. The ability to formulate problems in a general problem solving framework. Knowledge of domain independent search based problem solving algorithms. Knowledge of stochastic, local, and population based search algorithms. The foundations of problem decomposition and rule based methods. Ability to implement game playing algorithms. An understanding of the relation between search methods and other with other formulations including planning, constraints and logical reasoning. Course structure & Assessments 12 weeks of coursework, weekly online assignments, 2 in-person invigilated quizzes, 1 in-person invigilated end term exam. For details of standard course structure and assessments, visit Academics page. WEEK 1 Introduction and philosophy. The Turing Test. The Winograd Schema Challenge. Placing search in the landscape of AI. WEEK 2 Search spaces. Examples. State space search. Depth First, Breadth First, Iterative Deepening. Analysis. WEEK 3 Heuristic search. Heuristic functions. Solution space search. Escaping local optima. Stochastic local search. WEEK 4 Population based methods. Genetic Algorithms, emergent systems, Ant Colony Optimization. WEEK 5 Finding optimal paths. Algorithm A*. Admissibility of A*. WEEK 6 The monotone condition. Space saving versions of A*. Sequence alignment. WEEK 7 Game playing. Board games. Algorithms Minimax, Alpha-Beta, and SSS*. WEEK 8 Automated domain independent planning. Goal Stack Planning, Partial Order Planning. WEEK 9 Problem decomposition with goal trees. Algorithm AO*. WEEK 10 Pattern directed inference systems. Forward chaining inference engine. The Rete algorithm. WEEK 11 Constraint processing. Algorithm Backtracking. Arc consistency. Combining search and reasoning. Waltz algorithm. Model based diagnosis. + Show all weeks Prescribed Books The following are the suggested books for the course: Deepak Khemani. A First Course in Artificial Intelligence, McGraw Hill Education (India), 2013. (Chapters 1 – 8, some parts from Chapters 9 and 10)) Reference John Haugeland, Artificial Intelligence: The Very Idea, A Bradford Book, The MIT Press, 1985. Pamela McCorduck, Machines Who Think: A Personal Inquiry into the History and Prospects of Artificial Intelligence, A K Peters/CRC Press; 2nd edition, 2004. Eugene Charniak and Drew McDermott, Introduction to Artificial Intelligence, Addison- Wesley Publ., 1985. Zbigniew Michalewicz and David B. Fogel. How to Solve It: Modern Heuristics. Springer; 2nd edition, 2004. Judea Pearl. Heuristics: Intelligent Search Strategies for Computer Problem Solving, Addison-Wesley, 1984. Elaine Rich and Kevin Knight. Artificial Intelligence, Tata McGraw Hill, 1991. Stuart Russell and Peter Norvig. Artificial Intelligence: A Modern Approach, 3rd Edition, Prentice Hall, 2009. Patrick Henry Winston. Artificial Intelligence, Addison-Wesley, 1992. Stefan Edelkamp and Stefan Schroedl. Heuristic Search: Theory and Applications, Morgan Kaufmann, 2011. About the Instructors Deepak Khemani Professor, Department of Computer Science and Engineering, IIT Madras Deepak Khemani is a Professor in the Department of Computer Science and Engineering, IIT Madras, India. He graduated with three degrees from IIT Bombay, including two in Computer Science. His areas of research are broadly in Artificial Intelligence.He is the author of a text book ‘A First Course in Artificial Intelligence’. He has three online courses on Swayam developed as part of the NPTEL program, covering problem-solving using search, knowledge representation and reasoning, and constraint satisfaction. ... more His research focus is in the areas of knowledge, memory, reasoning and planning. He plans to employ these to build articulate systems that can take a problem-solving approach to teaching by a machine, especially in the areas of high school mathematics and science. More recently he has worked in the domain of multi-agent systems where an agent has to reason with what other agents know and believe. He is working towards implementing a contract bridge playing program that reasons like a human expert.The human-level contract bridge playing agent will be required to do epistemic planning while collaborating with a team member and competing against opponents in an environment of incomplete information. less Visit website View all Degree Level courses Contact Us support@study.iitm.ac.in 7850999966 IITM BS Degree Office, 3rd Floor, ICSR Building, IIT Madras, Chennai - 600036 Please use ONLY the above methods for any queries regarding the program. Our normal response time is 3 working days. It might take a little longer during busy periods. We will share Google Meet links during such periods. Due to the high volume of calls we receive every day, there might be long wait times. In some cases, you might have to call multiple times to successfully connect to us. View Site Map View Site Map Privacy Policy | Terms of Service', metadata={'source': '/Users/hritik/Desktop/Grading Doc RAG/Document/www/ds/course_pages/BSCS3003.html'})]"
      ]
     },
     "execution_count": 11,
     "metadata": {},
     "output_type": "execute_result"
    }
   ],
   "source": [
    "docs"
   ]
  },
  {
   "cell_type": "code",
   "execution_count": 12,
   "metadata": {},
   "outputs": [
    {
     "name": "stderr",
     "output_type": "stream",
     "text": [
      "/Users/hritik/Desktop/Grading Doc RAG/env/lib/python3.10/site-packages/tqdm/auto.py:21: TqdmWarning: IProgress not found. Please update jupyter and ipywidgets. See https://ipywidgets.readthedocs.io/en/stable/user_install.html\n",
      "  from .autonotebook import tqdm as notebook_tqdm\n",
      "42it [00:00, 380.09it/s]"
     ]
    },
    {
     "name": "stdout",
     "output_type": "stream",
     "text": [
      "[{'page_number': -3, 'page_char_count': 119, 'page_word_count': 16, 'page_sentence_count_raw': 1, 'page_token_count': 29.75, 'text': 'IITM BS Degree Office, 3rd Floor, ICSR Building, IIT Madras, Chennai - 600036 support@study.iitm.ac.in Student Handbook'}, {'page_number': -2, 'page_char_count': 1059, 'page_word_count': 173, 'page_sentence_count_raw': 11, 'page_token_count': 264.75, 'text': 'Please read this Dear student, This Student Handbook is intended to provide IIT Madras BS Degree students with the information and policies they should be aware of, which may help them make the most of the opportunities offered in this programme. It also gives you formal notification and explanation of the programme’s regulations, policies and procedures. It is essential, and your responsibility, to read it and familiarize yourself with the content. It should be kept handy and referred to during your time with us. This handbook may be revised time and again. While this student handbook was prepared on the basis of the best information available at the time of publication, all information, including policies and procedures are subject to change without notice or obligation. All rules and regulations in this document are approved by our committee. As changes keep getting approved, we will update them here. We hope that your time as a student in this programme is successful and enjoyable. Thank you. This document was last updated on June 7, 2024.'}]\n"
     ]
    },
    {
     "name": "stderr",
     "output_type": "stream",
     "text": [
      "\n"
     ]
    }
   ],
   "source": [
    "import fitz\n",
    "from tqdm.auto import tqdm\n",
    "import re\n",
    "import spacy\n",
    "\n",
    "pdf_path = '/Users/hritik/Desktop/Grading Doc RAG/Document/IITM BS Degree Programme - Student Handbook - Latest.pdf'\n",
    "\n",
    "def text_formatter(text: str) -> str:\n",
    "    \"\"\"Performs minor formatting on text.\"\"\"\n",
    "    cleaned_text = text.replace(\"\\n\", \" \").strip()\n",
    "    return cleaned_text\n",
    "\n",
    "def open_and_read_pdf(pdf_path: str) -> list[dict]:\n",
    "    \"\"\"\n",
    "    Opens a PDF file, reads its text content page by page, and collects statistics.\n",
    "\n",
    "    Parameters:\n",
    "        pdf_path (str): The file path to the PDF document to be opened and read.\n",
    "\n",
    "    Returns:\n",
    "        list[dict]: A list of dictionaries, each containing the page number\n",
    "        (adjusted), character count, word count, sentence count, token count, and the extracted text\n",
    "        for each page.\n",
    "    \"\"\"\n",
    "    doc = fitz.open(pdf_path)  # open a document\n",
    "    pages_and_texts = []\n",
    "    for page_number, page in tqdm(enumerate(doc)):  # iterate the document pages\n",
    "        text = page.get_text()  # get plain text encoded as UTF-8\n",
    "        text = text_formatter(text)\n",
    "        pages_and_texts.append({\"page_number\": page_number - 3,\n",
    "                                \"page_char_count\": len(text),\n",
    "                                \"page_word_count\": len(text.split(\" \")),\n",
    "                                \"page_sentence_count_raw\": len(text.split(\". \")),\n",
    "                                \"page_token_count\": len(text) / 4,  # 1 token = ~4 chars, see: https://help.openai.com/en/articles/4936856-what-are-tokens-and-how-to-count-them\n",
    "                                \"text\": text})\n",
    "    return pages_and_texts\n",
    "\n",
    "pages_and_texts = open_and_read_pdf(pdf_path=pdf_path)\n",
    "print(pages_and_texts[:2])\n",
    "    "
   ]
  },
  {
   "cell_type": "code",
   "execution_count": 13,
   "metadata": {},
   "outputs": [
    {
     "name": "stderr",
     "output_type": "stream",
     "text": [
      "100%|██████████| 42/42 [00:00<00:00, 2317.90it/s]\n"
     ]
    }
   ],
   "source": [
    "text_splitter = RecursiveCharacterTextSplitter(\n",
    "    \n",
    "    chunk_size=1000,\n",
    "    chunk_overlap=100,\n",
    "    length_function=len,\n",
    "    add_start_index=True\n",
    ")\n",
    "\n",
    "# Split text for each page and store the chunks\n",
    "for item in tqdm(pages_and_texts):\n",
    "    chunks = text_splitter.split_text(item[\"text\"])\n",
    "    item[\"chunks\"] = chunks"
   ]
  },
  {
   "cell_type": "code",
   "execution_count": 14,
   "metadata": {},
   "outputs": [],
   "source": [
    "from langchain.schema import Document\n",
    "\n",
    "embeddings = HuggingFaceInferenceAPIEmbeddings(\n",
    "    api_key=HUGGINGFACEHUB_API_TOKEN, model_name=\"sentence-transformers/all-MiniLM-l6-v2\"\n",
    ")\n",
    "documents = []\n",
    "for item in pages_and_texts:\n",
    "    for chunk in item[\"chunks\"]:\n",
    "        documents.append(Document(\n",
    "            page_content=chunk,\n",
    "            metadata={\"page_number\": item[\"page_number\"]}\n",
    "        ))"
   ]
  },
  {
   "cell_type": "code",
   "execution_count": 15,
   "metadata": {},
   "outputs": [],
   "source": [
    "vectordb = Chroma.from_documents(\n",
    "    documents=documents,\n",
    "    embedding=embeddings,\n",
    "    persist_directory='vectordb/chroma/'\n",
    ")"
   ]
  },
  {
   "cell_type": "code",
   "execution_count": 16,
   "metadata": {},
   "outputs": [
    {
     "name": "stdout",
     "output_type": "stream",
     "text": [
      "260\n"
     ]
    }
   ],
   "source": [
    "print(vectordb._collection.count())"
   ]
  },
  {
   "cell_type": "code",
   "execution_count": 17,
   "metadata": {},
   "outputs": [
    {
     "data": {
      "text/plain": [
       "'4.1 For students who are outside India: Facilitation fee for exams is in addition to the above for candidates writing exams overseas - as fixed up with the local exam partner there. These are subject to periodic changes depending on the local exam partner identified. Facilitation Fee Quiz1 [irrespective of num of courses] = Rs.2000/- Quiz2 [irrespective of num of courses] = Rs.2000/- End term [per session] = Rs.2000/- [one course it is Rs.2000/- & more than one course it is Rs. 4000/-] E.,g If you opt for 4 courses Quiz1 = 2000, Quiz2 = 2000, EndTerm = 4000 Totally 8000 to be paid as a facilitation fee *Facilitation fee may vary based on country. Eg: Kuwait & Bahrain it is Rs. 3000/- 5. Admission to the programme 5.1 Regular Entry into Foundation level To enter the Foundation level, applicants have to pass the Qualifier exam. The Foundation courses allow for interested applicants with a variety of educational backgrounds to be trained in the basics (Math, Statistics, Computational'"
      ]
     },
     "execution_count": 17,
     "metadata": {},
     "output_type": "execute_result"
    }
   ],
   "source": [
    "ques = \"what is the course fee for software engineering?\"\n",
    "docs = vectordb.similarity_search(ques,k=3)\n",
    "docs[0].page_content"
   ]
  }
 ],
 "metadata": {
  "kernelspec": {
   "display_name": "env",
   "language": "python",
   "name": "python3"
  },
  "language_info": {
   "codemirror_mode": {
    "name": "ipython",
    "version": 3
   },
   "file_extension": ".py",
   "mimetype": "text/x-python",
   "name": "python",
   "nbconvert_exporter": "python",
   "pygments_lexer": "ipython3",
   "version": "3.10.9"
  }
 },
 "nbformat": 4,
 "nbformat_minor": 2
}
